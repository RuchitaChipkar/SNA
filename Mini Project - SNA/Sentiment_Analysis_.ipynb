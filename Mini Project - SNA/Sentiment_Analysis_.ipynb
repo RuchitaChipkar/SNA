{
  "cells": [
    {
      "cell_type": "raw",
      "id": "1848e898",
      "metadata": {
        "id": "1848e898"
      },
      "source": [
        "Description:\n",
        "\n",
        "Sentiment analysis:\n",
        "\n",
        "Sentiment analysis (also known as opinion mining or emotion AI) is the use of natural language processing, text analysis, computational linguistics, and biometrics to systematically identify, extract, quantify, and study affective states and subjective information. - Wikipedia\n",
        "\n",
        "Python:\n",
        "\n",
        "Python is a high-level, general-purpose programming language. Its design philosophy emphasizes code readability with the use of significant indentation. Its language constructs and object-oriented approach aim to help programmers write clear, logical code for small- and large-scale projects - Wikipedia)\n",
        "\n",
        "NLTK:\n",
        "\n",
        "The Natural Language Toolkit, or more commonly NLTK, is a suite of libraries and programs for symbolic and statistical natural language processing (NLP) for English written in the Python programming language). It was developed by Steven Bird and Edward Loper in the Department of Computer and Information Science at the University of Pennsylvania. -Wikipedia\n",
        "\n",
        "Text Corpus:\n",
        "\n",
        "Text corpora (singular: text corpus) are large and structured sets of texts, which have been systematically collected. Text corpora are used by corpus linguists and within other branches of linguistics for statistical analysis, hypothesis testing, finding patterns of language use, investigating language change and variation, and teaching language proficiency. -Wikipedia\n",
        "\n",
        "VADER:\n",
        "\n",
        "VADER Sentiment Analysis. VADER (Valence Aware Dictionary and sEntiment Reasoner) is a lexicon and rule-based sentiment analysis tool that is specifically attuned to sentiments expressed in social media, and works well on texts from other domains. GitHub\n",
        "\n",
        "colorama:\n",
        "Simple cross-platform colored terminal text in Python - GitHub\n",
        "\n",
        "Procedure:\n",
        "\n",
        "Load required libraries"
      ]
    },
    {
      "cell_type": "code",
      "execution_count": 6,
      "id": "832e160b",
      "metadata": {
        "colab": {
          "base_uri": "https://localhost:8080/"
        },
        "id": "832e160b",
        "outputId": "d4111355-c882-4294-9e37-6f4ffbe3d85e"
      },
      "outputs": [
        {
          "output_type": "stream",
          "name": "stdout",
          "text": [
            "Collecting colorama\n",
            "  Downloading colorama-0.4.4-py2.py3-none-any.whl (16 kB)\n",
            "Installing collected packages: colorama\n",
            "Successfully installed colorama-0.4.4\n",
            "[nltk_data] Downloading package vader_lexicon to /root/nltk_data...\n",
            "[nltk_data]   Package vader_lexicon is already up-to-date!\n",
            "[nltk_data] Downloading package twitter_samples to /root/nltk_data...\n",
            "[nltk_data]   Package twitter_samples is already up-to-date!\n"
          ]
        }
      ],
      "source": [
        "!pip install colorama\n",
        "import nltk\n",
        "nltk.download('vader_lexicon')\n",
        "nltk.download('twitter_samples')\n",
        "from nltk.corpus import stopwords, twitter_samples\n",
        "from nltk.sentiment import SentimentIntensityAnalyzer\n",
        "from statistics import mean\n",
        "from random import shuffle\n",
        "from colorama import Fore"
      ]
    },
    {
      "cell_type": "markdown",
      "id": "f0464f7f",
      "metadata": {
        "id": "f0464f7f"
      },
      "source": [
        "-Load and test the VADER sentiment analyzer\n"
      ]
    },
    {
      "cell_type": "code",
      "execution_count": 7,
      "id": "0eddbe02",
      "metadata": {
        "colab": {
          "base_uri": "https://localhost:8080/"
        },
        "id": "0eddbe02",
        "outputId": "16fcde55-c445-4c3b-ff30-8e76085e7884"
      },
      "outputs": [
        {
          "output_type": "execute_result",
          "data": {
            "text/plain": [
              "{'compound': 0.0, 'neg': 0.0, 'neu': 1.0, 'pos': 0.0}"
            ]
          },
          "metadata": {},
          "execution_count": 7
        }
      ],
      "source": [
        "sia = SentimentIntensityAnalyzer()\n",
        "sia.polarity_scores(\"The most famous Python NLP.\")\n"
      ]
    },
    {
      "cell_type": "markdown",
      "id": "5ef91a49",
      "metadata": {
        "id": "5ef91a49"
      },
      "source": [
        "-Perform sentiment analysis on any 10 tweets"
      ]
    },
    {
      "cell_type": "code",
      "execution_count": 8,
      "id": "a1206938",
      "metadata": {
        "colab": {
          "base_uri": "https://localhost:8080/"
        },
        "id": "a1206938",
        "outputId": "de32b536-2ecb-4b15-9e61-f38976fcc020"
      },
      "outputs": [
        {
          "output_type": "stream",
          "name": "stdout",
          "text": [
            "\u001b[32mRT @HTScotPol: Good grief. Ed Miliband hands SNP massive gift on #bbcqt by saying he'd rather Tories ran country than do a deal with #SNP\n",
            "\u001b[31m@AJobTracker - the majority of Britain,Cameron serves the elites bankers&amp;corporations and the Zionists... David Cameron covers up-\n",
            "\u001b[32mRT @GeoffBeck: \"@RogerV52: @UKIP Who cares how much ... #bbcqt http://t.co/S2a9ukY18N\"\n",
            "once more, the only common sense is obvious. #UKIP\n",
            "\u001b[32m#ff @LivelyKaty How could ANYONE resist this beautiful smile? :-) #quacketyquack https://t.co/fhndvkscgM\n",
            "\u001b[32m@HyundaiIndia #CretaPerfect4Me #CRETAperfectSUV Creta Has Won Loads Of Hearts In Some Days, Many More Hearts To Be Won :)\n",
            "\u001b[31m@baileymac02 miss youu :(\n",
            "\u001b[31mItong shirt oh! :( I want thaaaat!!! :(( (ctto) http://t.co/YILATtPk6W\n",
            "\u001b[31mRT @talkstough: SNP wilfully misrepresenting what Miliband said. He would rather run a minority government. If they won't back him *they* l…\n",
            "\u001b[32mIsn't this place so peaceful and relaxing..:) http://t.co/LfC9t3SGPX #retweet\n",
            "\u001b[32mEd Miliband: 'Prefiero no ser primer ministro a pactar con el SNP': El líder laborista ha sido muy claro en la... http://t.co/oeSXxcT5Hr\n"
          ]
        }
      ],
      "source": [
        "pink = Fore.GREEN\n",
        "red = Fore.RED\n",
        "\n",
        "def ispositive(tweet : str) -> bool:\n",
        "    return sia.polarity_scores(tweet)[\"compound\"] > 0\n",
        "\n",
        "tweets = [tweet for tweet in twitter_samples.strings()]\n",
        "shuffle(tweets)\n",
        "\n",
        "for tweet in tweets[ : 10]:\n",
        "    color = pink\n",
        "    if not ispositive(tweet):\n",
        "        color = red\n",
        "    print(f\"{color}{tweet}\")"
      ]
    },
    {
      "cell_type": "code",
      "execution_count": null,
      "id": "12dd4575",
      "metadata": {
        "id": "12dd4575"
      },
      "outputs": [],
      "source": [
        ""
      ]
    }
  ],
  "metadata": {
    "kernelspec": {
      "display_name": "Python 3",
      "language": "python",
      "name": "python3"
    },
    "language_info": {
      "codemirror_mode": {
        "name": "ipython",
        "version": 3
      },
      "file_extension": ".py",
      "mimetype": "text/x-python",
      "name": "python",
      "nbconvert_exporter": "python",
      "pygments_lexer": "ipython3",
      "version": "3.8.8"
    },
    "colab": {
      "name": "Sentiment Analysis .ipynb",
      "provenance": [],
      "collapsed_sections": []
    }
  },
  "nbformat": 4,
  "nbformat_minor": 5
}